{
  "cells": [
    {
      "cell_type": "markdown",
      "metadata": {
        "id": "view-in-github",
        "colab_type": "text"
      },
      "source": [
        "<a href=\"https://colab.research.google.com/github/DajanaKolarova/AI_TB_model/blob/main/TB_ResNet_final.ipynb\" target=\"_parent\"><img src=\"https://colab.research.google.com/assets/colab-badge.svg\" alt=\"Open In Colab\"/></a>"
      ]
    },
    {
      "cell_type": "code",
      "execution_count": null,
      "id": "uXnVjMJBf-tx",
      "metadata": {
        "id": "uXnVjMJBf-tx"
      },
      "outputs": [],
      "source": [
        "import torch\n",
        "import numpy as np\n",
        "from pathlib import Path\n",
        "import cv2\n",
        "import math\n",
        "from sklearn.metrics import recall_score, accuracy_score, confusion_matrix, ConfusionMatrixDisplay, classification_report\n",
        "from collections.abc import Iterable\n",
        "import matplotlib.pyplot as plt\n",
        "import timm\n",
        "import torchvision"
      ]
    },
    {
      "cell_type": "code",
      "execution_count": null,
      "id": "z9UVU1Uygfy3",
      "metadata": {
        "id": "z9UVU1Uygfy3"
      },
      "outputs": [],
      "source": [
        "batch_size=30\n",
        "img_size=224"
      ]
    },
    {
      "cell_type": "code",
      "execution_count": null,
      "id": "LKaUR27Eg85n",
      "metadata": {
        "colab": {
          "base_uri": "https://localhost:8080/"
        },
        "id": "LKaUR27Eg85n",
        "outputId": "836eb699-ed46-4ebe-f758-389754a1177e"
      },
      "outputs": [
        {
          "output_type": "stream",
          "name": "stdout",
          "text": [
            "Drive already mounted at /content/drive; to attempt to forcibly remount, call drive.mount(\"/content/drive\", force_remount=True).\n"
          ]
        }
      ],
      "source": [
        "from google.colab import drive\n",
        "drive.mount('/content/drive')"
      ]
    },
    {
      "cell_type": "code",
      "execution_count": null,
      "id": "S0XAY6-qgjwk",
      "metadata": {
        "id": "S0XAY6-qgjwk"
      },
      "outputs": [],
      "source": [
        "target_class={0:\"Normal\",1:\"Tuberculosis\"}\n",
        "Normal_dir=Path(\"/content/drive/MyDrive/TB_xray_original_dataset/Normal\")\n",
        "TB_dir=Path(\"/content/drive/MyDrive/TB_xray_original_dataset/Tuberculosis\")"
      ]
    },
    {
      "cell_type": "code",
      "execution_count": null,
      "id": "bK0-4wzchWoW",
      "metadata": {
        "id": "bK0-4wzchWoW"
      },
      "outputs": [],
      "source": [
        "Normal_images:list=sorted(list(map(str, list(Normal_dir.glob(\"*.png\")))))\n",
        "TB_images:list=sorted(list(map(str, list(TB_dir.glob(\"*.png\")))))\n",
        "Normal_labels:list=[0]*len(Normal_images)\n",
        "TB_labels:list=[1]*len(TB_images)"
      ]
    },
    {
      "cell_type": "code",
      "execution_count": null,
      "id": "qk6FoubqhZRF",
      "metadata": {
        "colab": {
          "base_uri": "https://localhost:8080/"
        },
        "id": "qk6FoubqhZRF",
        "outputId": "566a0f08-960f-4668-c6f6-51648b1e6ddf"
      },
      "outputs": [
        {
          "output_type": "execute_result",
          "data": {
            "text/plain": [
              "((1400,), (1400,))"
            ]
          },
          "metadata": {},
          "execution_count": 6
        }
      ],
      "source": [
        "images=np.array(Normal_images+TB_images)\n",
        "labels=np.array(Normal_labels+TB_labels)\n",
        "images.shape, labels.shape"
      ]
    },
    {
      "cell_type": "code",
      "execution_count": null,
      "id": "GfHcxnlshd49",
      "metadata": {
        "colab": {
          "base_uri": "https://localhost:8080/"
        },
        "id": "GfHcxnlshd49",
        "outputId": "161c66e8-dcc2-48e4-d3a0-ed08cd8b0e6e"
      },
      "outputs": [
        {
          "output_type": "execute_result",
          "data": {
            "text/plain": [
              "((1120,), (140,), (140,))"
            ]
          },
          "metadata": {},
          "execution_count": 7
        }
      ],
      "source": [
        "from sklearn.model_selection import train_test_split\n",
        "x_train, x_valid, y_train, y_valid = train_test_split(images,labels,test_size=0.2,random_state=42)\n",
        "x_valid,x_test,y_valid,y_test=train_test_split(x_valid,y_valid,test_size=0.5,random_state=42)\n",
        "(x_train.shape,x_valid.shape,x_test.shape)"
      ]
    },
    {
      "cell_type": "code",
      "execution_count": null,
      "id": "reHC7ZhVhgf-",
      "metadata": {
        "id": "reHC7ZhVhgf-"
      },
      "outputs": [],
      "source": [
        "def image_preprocessing(path):\n",
        "    img=cv2.imread(path)\n",
        "    img=cv2.cvtColor(img,cv2.COLOR_BGR2GRAY)\n",
        "    clahe=cv2.createCLAHE(clipLimit=2)\n",
        "    img=clahe.apply(img)\n",
        "    img=cv2.GaussianBlur(img,(5,5),0,borderType=cv2.BORDER_CONSTANT)\n",
        "    img=cv2.resize(img,(img_size,img_size),interpolation=cv2.INTER_LINEAR)\n",
        "    img=cv2.cvtColor(img,cv2.COLOR_GRAY2RGB)\n",
        "    img=np.moveaxis(img,-1,0)\n",
        "    return img"
      ]
    },
    {
      "cell_type": "code",
      "execution_count": null,
      "id": "ip2A7RH2hksL",
      "metadata": {
        "colab": {
          "base_uri": "https://localhost:8080/"
        },
        "id": "ip2A7RH2hksL",
        "outputId": "c20b4c02-2dc8-43c3-f490-87dc2a2a7ece"
      },
      "outputs": [
        {
          "output_type": "execute_result",
          "data": {
            "text/plain": [
              "((1120, 3, 224, 224), (140, 3, 224, 224), (140, 3, 224, 224))"
            ]
          },
          "metadata": {},
          "execution_count": 9
        }
      ],
      "source": [
        "x_train=np.array(list(map(image_preprocessing,x_train))).astype(np.float32)\n",
        "x_valid=np.array(list(map(image_preprocessing,x_valid))).astype(np.float32)\n",
        "x_test=np.array(list(map(image_preprocessing,x_test))).astype(np.float32)\n",
        "x_train.shape,x_valid.shape,x_test.shape"
      ]
    },
    {
      "cell_type": "code",
      "execution_count": null,
      "id": "KEvlPF4jhn_p",
      "metadata": {
        "id": "KEvlPF4jhn_p"
      },
      "outputs": [],
      "source": [
        "device=(\"cuda\" if torch.cuda.is_available() else \"cpu\")\n",
        "x_train=torch.from_numpy(x_train).to(device)\n",
        "x_valid=torch.from_numpy(x_valid).to(device)\n",
        "x_test=torch.from_numpy(x_test).to(device)\n",
        "y_train=torch.from_numpy(y_train).to(device)\n",
        "y_valid=torch.from_numpy(y_valid).to(device)\n",
        "y_test=torch.from_numpy(y_test).to(device)"
      ]
    },
    {
      "cell_type": "code",
      "execution_count": null,
      "id": "aqV5TorXhr-o",
      "metadata": {
        "id": "aqV5TorXhr-o"
      },
      "outputs": [],
      "source": [
        "class StandardScaler():\n",
        "    def __init__(self) -> None:\n",
        "        self.mean=None\n",
        "        self.std=None\n",
        "    def fit(self,tensor:torch.Tensor) -> None:\n",
        "        self.mean=tensor.mean((0,2,3),keepdim=True)\n",
        "        self.std=tensor.std((0,2,3),keepdim=True)\n",
        "    def transform(self,tensor:torch.Tensor) -> torch.Tensor:\n",
        "        scaled=(tensor-self.mean)/(self.std+1e-5)\n",
        "        return scaled\n",
        "    def fit_transform(self,tensor:torch.Tensor) -> torch.Tensor:\n",
        "        self.fit(tensor=tensor)\n",
        "        scaled=self.transform(tensor=tensor)\n",
        "        return scaled"
      ]
    },
    {
      "cell_type": "code",
      "execution_count": null,
      "id": "lY2-6sIDhtpM",
      "metadata": {
        "id": "lY2-6sIDhtpM"
      },
      "outputs": [],
      "source": [
        "scaler=StandardScaler()\n",
        "x_train=scaler.fit_transform(x_train)\n",
        "x_test=scaler.transform(x_test)\n",
        "x_valid=scaler.transform(x_valid)"
      ]
    },
    {
      "cell_type": "code",
      "execution_count": null,
      "id": "b0YsELrzhvG8",
      "metadata": {
        "id": "b0YsELrzhvG8"
      },
      "outputs": [],
      "source": [
        "from torch.utils.data import TensorDataset\n",
        "from torch.utils.data import DataLoader"
      ]
    },
    {
      "cell_type": "code",
      "execution_count": null,
      "id": "ceM_RgWehwn6",
      "metadata": {
        "id": "ceM_RgWehwn6"
      },
      "outputs": [],
      "source": [
        "train_dataset=TensorDataset(x_train,y_train)\n",
        "val_dataset=TensorDataset(x_valid,y_valid)\n",
        "test_dataset=TensorDataset(x_test,y_test)\n",
        "train_loader=DataLoader(train_dataset,batch_size=batch_size,shuffle=False)\n",
        "val_loader=DataLoader(val_dataset,batch_size=batch_size,shuffle=False)\n",
        "test_loader=DataLoader(test_dataset,batch_size=batch_size,shuffle=False)"
      ]
    },
    {
      "cell_type": "code",
      "execution_count": null,
      "id": "8f1c2655-c0ac-4016-81dd-a536981b7818",
      "metadata": {
        "id": "8f1c2655-c0ac-4016-81dd-a536981b7818"
      },
      "outputs": [],
      "source": [
        "import torch\n",
        "import torch.nn as nn\n",
        "import torch.nn.functional as F\n",
        "import torch.optim as optim\n",
        "from torch.utils.data import DataLoader, random_split\n",
        "from torchvision import transforms, models\n",
        "import matplotlib.pyplot as plt\n",
        "from sklearn.metrics import classification_report\n",
        "#from medmnist import INFO, Evaluator\n",
        "#from medmnist.dataset import BloodMNIST\n",
        "import numpy as np\n",
        "import copy\n",
        "from torchvision.models import resnet18"
      ]
    },
    {
      "cell_type": "markdown",
      "id": "h-lKoXw95n2S",
      "metadata": {
        "id": "h-lKoXw95n2S"
      },
      "source": [
        "torch: Core library for building and managing deep learning models.\n",
        "\n",
        "torch.nn: Provides modules for creating and defining layers in neural networks.\n",
        "\n",
        "Contains functions for operations like activation functions (F.relu) and loss functions (F.cross_entropy).\n",
        "\n",
        "torch.optim: Includes optimizers like SGD (Stochastic Gradient Descent), Adam, etc., for training models.\n",
        "\n",
        "DataLoader: Used to load data in batches for efficient training.\n",
        "\n",
        "random_split: Splits datasets into training, validation, or test sets.\n",
        "\n",
        "transforms:\n",
        "Used for preprocessing and augmenting image datasets.\n",
        "\n",
        "matplotlib.pyplot:\n",
        "Used for visualizing data and plotting metrics\n",
        "\n",
        "Generates a detailed report with precision, recall, F1-score, and support for each class.\n",
        "\n",
        "numpy:\n",
        "A fundamental library for numerical computations and matrix operations."
      ]
    },
    {
      "cell_type": "markdown",
      "id": "9is3YIy841HP",
      "metadata": {
        "id": "9is3YIy841HP"
      },
      "source": [
        "(1) imports the ResNet-18 model from torchvision.models. ResNet-18 is a popular deep convolutional neural network architecture that includes 18 layers and is known for its residual connections, which help mitigate the vanishing gradient problem.\n",
        "\n",
        "(3) loads the model with pre-trained weights on the ImageNet dataset. These weights provide a strong starting point because the model has already learned to extract general image features (e.g., edges, textures, patterns).\n",
        "You can fine-tune this model on your specific dataset instead of training from scratch, which is faster and requires fewer data.\n",
        "\n",
        "(4) This retrieves the number of input features for the fully connected layer (512 for ResNet-18).\n",
        "nn.Linear(model.fc.in_features, num_classes):\n",
        "Replaces the original fully connected layer with a new one that outputs predictions for num_classes (your custom number of classes).\n",
        "This is necessary to adapt the pre-trained ResNet model for your specific classification problem.\n",
        "\n",
        "By replacing the fully connected layer, you ensure the model outputs predictions matching your dataset's class count."
      ]
    },
    {
      "cell_type": "code",
      "execution_count": null,
      "id": "d4131681-fe3f-400b-814f-e121a4db1284",
      "metadata": {
        "id": "d4131681-fe3f-400b-814f-e121a4db1284"
      },
      "outputs": [],
      "source": [
        "# Set seed for reproducibility\n",
        "def set_seed(seed=42):\n",
        "    torch.manual_seed(seed)\n",
        "    torch.cuda.manual_seed(seed)\n",
        "    torch.backends.cudnn.deterministic = True\n",
        "    torch.backends.cudnn.benchmark = False\n",
        "    np.random.seed(seed)\n",
        "\n",
        "set_seed(42)"
      ]
    },
    {
      "cell_type": "markdown",
      "id": "HM1Yuw005nz6",
      "metadata": {
        "id": "HM1Yuw005nz6"
      },
      "source": [
        "Reproducibility ensures that the results of a machine learning experiment are consistent when the code is run multiple times.\n",
        "\n",
        "A random seed is an initialization value that allows random number generators to produce the same sequence of numbers each time the program is run.\n",
        "By setting a seed, you make experiments deterministic, which is especially important in machine learning to debug and compare results."
      ]
    },
    {
      "cell_type": "code",
      "execution_count": null,
      "id": "0aa21f38-6b4b-45c7-ad0d-633404434fe6",
      "metadata": {
        "colab": {
          "base_uri": "https://localhost:8080/"
        },
        "id": "0aa21f38-6b4b-45c7-ad0d-633404434fe6",
        "outputId": "95cd7bb2-6fd6-4148-e822-bfc063eba822"
      },
      "outputs": [
        {
          "output_type": "stream",
          "name": "stdout",
          "text": [
            "Using device: cuda\n"
          ]
        }
      ],
      "source": [
        "# Check for GPU\n",
        "device = torch.device(\"cuda\" if torch.cuda.is_available() else \"cpu\")\n",
        "print(f\"Using device: {device}\")"
      ]
    },
    {
      "cell_type": "code",
      "execution_count": null,
      "id": "01aa43e2-96aa-44ae-9bcf-4ad8dcc051b6",
      "metadata": {
        "id": "01aa43e2-96aa-44ae-9bcf-4ad8dcc051b6"
      },
      "outputs": [],
      "source": [
        "# Data loading and transformation\n",
        "transform = transforms.Compose([\n",
        "    transforms.ToTensor(),\n",
        "    transforms.Normalize((0.5,), (0.5,))\n",
        "])"
      ]
    },
    {
      "cell_type": "markdown",
      "id": "bWetW5Fy66ca",
      "metadata": {
        "id": "bWetW5Fy66ca"
      },
      "source": [
        "defines the data transformations that will be applied to the input dataset before it is fed into the model. These transformations are crucial for data preprocessing and augmentation, ensuring that the input data is in the correct format and normalized for better model training.\n",
        "\n",
        "Automatically scales the pixel values from the range [0, 255] to the range [0, 1] by dividing each value by 255.\n",
        "Why?\n",
        "\n",
        "PyTorch models work with tensor inputs, so raw images must be converted to tensors.\n",
        "Scaling the pixel values ensures that the data is normalized for numerical stability during training.\n",
        "\n",
        "Why Normalize?\n",
        "Standardization:\n",
        "Normalizing pixel values ensures that all features (pixel intensities) have the same scale.\n",
        "Prevents features with larger values from dominating others during training.\n",
        "Improved Convergence:\n",
        "Helps the optimizer converge faster by stabilizing gradients.\n",
        "Consistent Input Distribution:\n",
        "Many pre-trained models assume inputs are normalized to specific ranges (e.g., [-1, 1] or mean=0 and std=1)."
      ]
    },
    {
      "cell_type": "markdown",
      "id": "YEgAiRLD8j87",
      "metadata": {
        "id": "YEgAiRLD8j87"
      },
      "source": [
        "Prints essential metadata about the dataset\n",
        "\n",
        "Visualizes a random subset of images from the training dataset to understand what the data looks like.\n",
        "\n",
        "Selects num_samples random images using np.random.choice\n",
        "\n",
        "Converts the tensor format (Channels x Height x Width) to NumPy format (Height x Width x Channels) using np.rollaxis\n",
        "\n",
        "Plots the images using matplotlib with their corresponding labels\n",
        "\n",
        "Counts the number of samples per class in the training dataset\n",
        "\n",
        "Initializes a zero array class_counts to store class-wise counts.\n",
        "Iterates through all the samples in train_data and adds 1 to the respective class index (from the one-hot encoded label)\n",
        "\n",
        "Bar Plot:\n",
        "Plots the counts of samples for each class as a bar chart.\n",
        "Helps identify imbalances in the dataset, e.g., if certain classes have significantly fewer samples\n",
        "\n",
        "NOTE: updated the code to include normalization so the images are not cropped and displayed correctly"
      ]
    },
    {
      "cell_type": "markdown",
      "id": "cDJr5DN0-QCc",
      "metadata": {
        "id": "cDJr5DN0-QCc"
      },
      "source": [
        "SimpleCNN inherits from torch.nn.Module, which is the base class for all neural network models in PyTorch.\n",
        "\n",
        "The __init__ method initializes the layers of the network.\n",
        "\n",
        "num_classes=2 is the number of output classes for classification. You have updated this to num_classes=8 in your instantiation.\n",
        "\n",
        "Convolutional Layers\n",
        "\n",
        "conv1: A 2D convolutional layer with 3 input channels (RGB images), 32 output channels, a kernel size of 3x3, and a stride of 1.\n",
        "conv2: Another 2D convolutional layer, taking the 32-channel output of conv1 as input and producing 64 output channels.\n",
        "These layers learn spatial features from the input images.\n",
        "\n",
        "Fully Connected (Dense) Layers\n",
        "\n",
        "fc1: A fully connected layer that takes a flattened input of size 12*12*64 (12x12 is the output size after the convolutions and pooling, and 64 is the number of channels from conv2) and outputs 128 features.\n",
        "fc2: The final fully connected layer maps the 128 features to num_classes outputs.\n",
        "\n",
        "Forward Pass\n",
        "\n",
        "torch.relu: Applies the Rectified Linear Unit (ReLU) activation function to introduce non-linearity.\n",
        "max_pool2d: Applies max pooling with a kernel size of 2, reducing the spatial dimensions by half.\n",
        "torch.flatten: Flattens the tensor, making it suitable for fully connected layers. The dim=1 argument preserves the batch dimension."
      ]
    },
    {
      "cell_type": "code",
      "execution_count": null,
      "id": "b176a65d-ddc3-4908-8a79-db4e734686ca",
      "metadata": {
        "colab": {
          "base_uri": "https://localhost:8080/"
        },
        "id": "b176a65d-ddc3-4908-8a79-db4e734686ca",
        "outputId": "7af34bc8-d17c-4e3d-e244-ea1e00118752"
      },
      "outputs": [
        {
          "output_type": "stream",
          "name": "stdout",
          "text": [
            "ResNet(\n",
            "  (conv1): Conv2d(3, 64, kernel_size=(7, 7), stride=(2, 2), padding=(3, 3), bias=False)\n",
            "  (bn1): BatchNorm2d(64, eps=1e-05, momentum=0.1, affine=True, track_running_stats=True)\n",
            "  (relu): ReLU(inplace=True)\n",
            "  (maxpool): MaxPool2d(kernel_size=3, stride=2, padding=1, dilation=1, ceil_mode=False)\n",
            "  (layer1): Sequential(\n",
            "    (0): BasicBlock(\n",
            "      (conv1): Conv2d(64, 64, kernel_size=(3, 3), stride=(1, 1), padding=(1, 1), bias=False)\n",
            "      (bn1): BatchNorm2d(64, eps=1e-05, momentum=0.1, affine=True, track_running_stats=True)\n",
            "      (relu): ReLU(inplace=True)\n",
            "      (conv2): Conv2d(64, 64, kernel_size=(3, 3), stride=(1, 1), padding=(1, 1), bias=False)\n",
            "      (bn2): BatchNorm2d(64, eps=1e-05, momentum=0.1, affine=True, track_running_stats=True)\n",
            "    )\n",
            "    (1): BasicBlock(\n",
            "      (conv1): Conv2d(64, 64, kernel_size=(3, 3), stride=(1, 1), padding=(1, 1), bias=False)\n",
            "      (bn1): BatchNorm2d(64, eps=1e-05, momentum=0.1, affine=True, track_running_stats=True)\n",
            "      (relu): ReLU(inplace=True)\n",
            "      (conv2): Conv2d(64, 64, kernel_size=(3, 3), stride=(1, 1), padding=(1, 1), bias=False)\n",
            "      (bn2): BatchNorm2d(64, eps=1e-05, momentum=0.1, affine=True, track_running_stats=True)\n",
            "    )\n",
            "  )\n",
            "  (layer2): Sequential(\n",
            "    (0): BasicBlock(\n",
            "      (conv1): Conv2d(64, 128, kernel_size=(3, 3), stride=(2, 2), padding=(1, 1), bias=False)\n",
            "      (bn1): BatchNorm2d(128, eps=1e-05, momentum=0.1, affine=True, track_running_stats=True)\n",
            "      (relu): ReLU(inplace=True)\n",
            "      (conv2): Conv2d(128, 128, kernel_size=(3, 3), stride=(1, 1), padding=(1, 1), bias=False)\n",
            "      (bn2): BatchNorm2d(128, eps=1e-05, momentum=0.1, affine=True, track_running_stats=True)\n",
            "      (downsample): Sequential(\n",
            "        (0): Conv2d(64, 128, kernel_size=(1, 1), stride=(2, 2), bias=False)\n",
            "        (1): BatchNorm2d(128, eps=1e-05, momentum=0.1, affine=True, track_running_stats=True)\n",
            "      )\n",
            "    )\n",
            "    (1): BasicBlock(\n",
            "      (conv1): Conv2d(128, 128, kernel_size=(3, 3), stride=(1, 1), padding=(1, 1), bias=False)\n",
            "      (bn1): BatchNorm2d(128, eps=1e-05, momentum=0.1, affine=True, track_running_stats=True)\n",
            "      (relu): ReLU(inplace=True)\n",
            "      (conv2): Conv2d(128, 128, kernel_size=(3, 3), stride=(1, 1), padding=(1, 1), bias=False)\n",
            "      (bn2): BatchNorm2d(128, eps=1e-05, momentum=0.1, affine=True, track_running_stats=True)\n",
            "    )\n",
            "  )\n",
            "  (layer3): Sequential(\n",
            "    (0): BasicBlock(\n",
            "      (conv1): Conv2d(128, 256, kernel_size=(3, 3), stride=(2, 2), padding=(1, 1), bias=False)\n",
            "      (bn1): BatchNorm2d(256, eps=1e-05, momentum=0.1, affine=True, track_running_stats=True)\n",
            "      (relu): ReLU(inplace=True)\n",
            "      (conv2): Conv2d(256, 256, kernel_size=(3, 3), stride=(1, 1), padding=(1, 1), bias=False)\n",
            "      (bn2): BatchNorm2d(256, eps=1e-05, momentum=0.1, affine=True, track_running_stats=True)\n",
            "      (downsample): Sequential(\n",
            "        (0): Conv2d(128, 256, kernel_size=(1, 1), stride=(2, 2), bias=False)\n",
            "        (1): BatchNorm2d(256, eps=1e-05, momentum=0.1, affine=True, track_running_stats=True)\n",
            "      )\n",
            "    )\n",
            "    (1): BasicBlock(\n",
            "      (conv1): Conv2d(256, 256, kernel_size=(3, 3), stride=(1, 1), padding=(1, 1), bias=False)\n",
            "      (bn1): BatchNorm2d(256, eps=1e-05, momentum=0.1, affine=True, track_running_stats=True)\n",
            "      (relu): ReLU(inplace=True)\n",
            "      (conv2): Conv2d(256, 256, kernel_size=(3, 3), stride=(1, 1), padding=(1, 1), bias=False)\n",
            "      (bn2): BatchNorm2d(256, eps=1e-05, momentum=0.1, affine=True, track_running_stats=True)\n",
            "    )\n",
            "  )\n",
            "  (layer4): Sequential(\n",
            "    (0): BasicBlock(\n",
            "      (conv1): Conv2d(256, 512, kernel_size=(3, 3), stride=(2, 2), padding=(1, 1), bias=False)\n",
            "      (bn1): BatchNorm2d(512, eps=1e-05, momentum=0.1, affine=True, track_running_stats=True)\n",
            "      (relu): ReLU(inplace=True)\n",
            "      (conv2): Conv2d(512, 512, kernel_size=(3, 3), stride=(1, 1), padding=(1, 1), bias=False)\n",
            "      (bn2): BatchNorm2d(512, eps=1e-05, momentum=0.1, affine=True, track_running_stats=True)\n",
            "      (downsample): Sequential(\n",
            "        (0): Conv2d(256, 512, kernel_size=(1, 1), stride=(2, 2), bias=False)\n",
            "        (1): BatchNorm2d(512, eps=1e-05, momentum=0.1, affine=True, track_running_stats=True)\n",
            "      )\n",
            "    )\n",
            "    (1): BasicBlock(\n",
            "      (conv1): Conv2d(512, 512, kernel_size=(3, 3), stride=(1, 1), padding=(1, 1), bias=False)\n",
            "      (bn1): BatchNorm2d(512, eps=1e-05, momentum=0.1, affine=True, track_running_stats=True)\n",
            "      (relu): ReLU(inplace=True)\n",
            "      (conv2): Conv2d(512, 512, kernel_size=(3, 3), stride=(1, 1), padding=(1, 1), bias=False)\n",
            "      (bn2): BatchNorm2d(512, eps=1e-05, momentum=0.1, affine=True, track_running_stats=True)\n",
            "    )\n",
            "  )\n",
            "  (avgpool): AdaptiveAvgPool2d(output_size=(1, 1))\n",
            "  (fc): Linear(in_features=512, out_features=2, bias=True)\n",
            ")\n"
          ]
        }
      ],
      "source": [
        "# Load a pre-trained ResNet model\n",
        "model = models.resnet18(weights=\"DEFAULT\")\n",
        "\n",
        "# Modify the final layer to fit the number of classes\n",
        "num_classes = 2\n",
        "model.fc = torch.nn.Linear(model.fc.in_features, num_classes)\n",
        "\n",
        "# Model summary\n",
        "print(model)"
      ]
    },
    {
      "cell_type": "code",
      "execution_count": null,
      "id": "516a8aee-7419-4a70-b9b7-ddb47a921d19",
      "metadata": {
        "colab": {
          "base_uri": "https://localhost:8080/",
          "height": 574
        },
        "id": "516a8aee-7419-4a70-b9b7-ddb47a921d19",
        "outputId": "d86493f3-66a9-45af-a135-64273e9d0018"
      },
      "outputs": [
        {
          "output_type": "stream",
          "name": "stdout",
          "text": [
            "Epoch 1/5, Training Loss: 0.2497, Validation Loss: 0.1117\n",
            "Epoch 2/5, Training Loss: 0.0509, Validation Loss: 0.0631\n",
            "Epoch 3/5, Training Loss: 0.0209, Validation Loss: 0.0440\n",
            "Epoch 4/5, Training Loss: 0.0115, Validation Loss: 0.0362\n",
            "Epoch 5/5, Training Loss: 0.0076, Validation Loss: 0.0309\n"
          ]
        },
        {
          "output_type": "display_data",
          "data": {
            "text/plain": [
              "<Figure size 640x480 with 1 Axes>"
            ],
            "image/png": "[encoded data removed]"
          },
          "metadata": {}
        },
        {
          "output_type": "stream",
          "name": "stdout",
          "text": [
            "Model saved to TB_resnet.pth\n"
          ]
        }
      ],
      "source": [
        "model = model.to(device)\n",
        "criterion = nn.CrossEntropyLoss()\n",
        "optimizer = optim.SGD(model.parameters(), lr=0.01)\n",
        "\n",
        "# Training loop with tracking of losses\n",
        "num_epochs = 5\n",
        "train_losses = []\n",
        "val_losses = []\n",
        "\n",
        "for epoch in range(num_epochs):\n",
        "    # Training phase\n",
        "    model.train()\n",
        "    running_train_loss = 0.0\n",
        "    for images, labels in train_loader:\n",
        "        labels = labels.view(-1)  # Flatten to [batch_size]\n",
        "        images, labels = images.to(device), labels.to(device)\n",
        "        optimizer.zero_grad()\n",
        "        output = model(images)\n",
        "        loss = criterion(output, labels)\n",
        "        loss.backward()\n",
        "        optimizer.step()\n",
        "        running_train_loss += loss.item()\n",
        "\n",
        "    # Validation phase\n",
        "    model.eval()\n",
        "    running_val_loss = 0.0\n",
        "    with torch.no_grad():\n",
        "        for images, labels in val_loader:\n",
        "            labels = labels.view(-1)  # Flatten to [batch_size]\n",
        "            images, labels = images.to(device), labels.squeeze().to(device)\n",
        "            output = model(images)\n",
        "            loss = criterion(output, labels)\n",
        "            running_val_loss += loss.item()\n",
        "\n",
        "    # Average losses for the epoch\n",
        "    epoch_train_loss = running_train_loss / len(train_loader)\n",
        "    epoch_val_loss = running_val_loss / len(val_loader)\n",
        "\n",
        "    train_losses.append(epoch_train_loss)\n",
        "    val_losses.append(epoch_val_loss)\n",
        "\n",
        "    print(f\"Epoch {epoch+1}/{num_epochs}, Training Loss: {epoch_train_loss:.4f}, Validation Loss: {epoch_val_loss:.4f}\")\n",
        "\n",
        "# Plot training and validation losses\n",
        "plt.plot(range(1, num_epochs+1), train_losses, label='Training Loss')\n",
        "plt.plot(range(1, num_epochs+1), val_losses, label='Validation Loss')\n",
        "plt.xlabel('Epochs')\n",
        "plt.ylabel('Loss')\n",
        "plt.title('Training and Validation Losses')\n",
        "plt.legend()\n",
        "plt.show()\n",
        "\n",
        "# Save the model\n",
        "torch.save(model.state_dict(), \"TB_resnet.pth\")\n",
        "print(\"Model saved to TB_resnet.pth\")"
      ]
    },
    {
      "cell_type": "markdown",
      "id": "Od1GIEPm_wOy",
      "metadata": {
        "id": "Od1GIEPm_wOy"
      },
      "source": [
        "model.to(device): Moves the model to the specified device (CPU or GPU).\n",
        "\n",
        "criterion: Defines the loss function, in this case, CrossEntropyLoss, which is commonly used for multi-class classification problems.\n",
        "\n",
        "optimizer: Uses Stochastic Gradient Descent (SGD) to update model weights based on the gradients computed during backpropagation. Learning rate (lr) is set to 0.01.\n",
        "\n",
        "Loops over the dataset for a specified number of epochs (num_epochs=5).\n",
        "\n",
        "model.train(): Sets the model to training mode, enabling behaviors like dropout and batch normalization.\n",
        "\n",
        "running_train_loss: Keeps track of the cumulative training loss for the current epoch.\n",
        "\n",
        "labels.view(-1): Ensures the labels are in the correct shape for loss calculation.\n",
        "\n",
        "images.to(device), labels.to(device): Moves the data to the same device as the model.\n",
        "\n",
        "optimizer.zero_grad(): Resets gradients from the previous iteration.\n",
        "\n",
        "model(images): Forward pass - outputs predictions for the batch of images.\n",
        "\n",
        "criterion(output, labels): Calculates the loss between predictions (output) and true labels (labels).\n",
        "\n",
        "loss.backward(): Backpropagates the loss to compute gradients.\n",
        "\n",
        "optimizer.step(): Updates the model parameters using the computed gradients.\n",
        "running_train_loss: Accumulates the total training loss for the epoch.\n",
        "\n",
        "model.eval(): Sets the model to evaluation mode, disabling behaviors like dropout.\n",
        "\n",
        "torch.no_grad(): Disables gradient\n",
        "computation to save memory and improve performance during validation.\n",
        "\n",
        "Loops through the validation dataset and calculates the validation loss\n",
        "\n",
        "Computes the average loss for both training and validation datasets for the current epoch.\n",
        "Tracks the losses in train_losses and val_losses lists for later visualization.\n",
        "Prints the losses for each epoch.\n",
        "\n",
        "Plots the training and validation losses over the epochs to visualize the model's learning process.\n",
        "Key Indicators:\n",
        "Decreasing training loss: The model is learning.\n",
        "If validation loss decreases in tandem, the model generalizes well.\n",
        "If validation loss increases while training loss decreases, overfitting might be occurring.\n",
        "\n",
        "Saves the trained model's parameters (weights) to a file.\n",
        "The model can later be reloaded for evaluation or further training using:\n"
      ]
    },
    {
      "cell_type": "code",
      "execution_count": null,
      "id": "L5QlHIQ-hIcq",
      "metadata": {
        "colab": {
          "base_uri": "https://localhost:8080/"
        },
        "id": "L5QlHIQ-hIcq",
        "outputId": "1a2c43ee-0b94-44e1-801b-8dfbe54df043"
      },
      "outputs": [
        {
          "output_type": "stream",
          "name": "stdout",
          "text": [
            "Model loaded from TB_resnet.pth\n",
            "Classification Report:\n",
            "\n",
            "              precision    recall  f1-score   support\n",
            "\n",
            "           0       0.99      1.00      0.99        73\n",
            "           1       1.00      0.99      0.99        67\n",
            "\n",
            "    accuracy                           0.99       140\n",
            "   macro avg       0.99      0.99      0.99       140\n",
            "weighted avg       0.99      0.99      0.99       140\n",
            "\n"
          ]
        }
      ],
      "source": [
        "loaded_model = copy.deepcopy(model).to(device)\n",
        "loaded_model.load_state_dict(torch.load(\"TB_resnet.pth\", weights_only=True))\n",
        "loaded_model.eval()\n",
        "print(\"Model loaded from TB_resnet.pth\")\n",
        "\n",
        "# Evaluate on test set\n",
        "all_preds = []\n",
        "all_labels = []\n",
        "\n",
        "with torch.no_grad():\n",
        "    for images, labels in test_loader:\n",
        "        images, labels = images.to(device), labels.squeeze().to(device)\n",
        "        output = loaded_model(images)\n",
        "        _, preds = torch.max(output, 1)\n",
        "        all_preds.extend(preds.cpu().numpy())\n",
        "        all_labels.extend(labels.cpu().numpy())\n",
        "\n",
        "# Classification report\n",
        "report = classification_report(all_labels, all_preds, target_names=[str(i) for i in range(num_classes)])\n",
        "print(\"Classification Report:\\n\")\n",
        "print(report)"
      ]
    },
    {
      "cell_type": "markdown",
      "id": "gx7jiwxTLACk",
      "metadata": {
        "id": "gx7jiwxTLACk"
      },
      "source": [
        "No Gradient Calculation: torch.no_grad() ensures no gradients are calculated, saving memory and speeding up inference.\n",
        "\n",
        "Data Iteration: The test dataset (test_loader) is iterated batch by batch.\n",
        "\n",
        "Predictions:\n",
        "output contains the model's raw predictions (logits) for each class.\n",
        "torch.max(output, 1) gives the class index (preds) with the highest predicted probability for each sample in the batch.\n",
        "The predictions (preds) and ground truth (labels) are stored in lists for further evaluation. A deep copy of the existing model is created and moved to the appropriate device (CPU or GPU).\n",
        "The pre-trained model's state is loaded from the saved .pth file.\n",
        "\n",
        "\n",
        "The eval() method is called, putting the model in evaluation mode, which:\n",
        "Disables dropout layers (if any).\n",
        "Ensures batch normalization layers use pre-computed statistics.\n",
        "\n",
        "\n",
        "Classification Report:\n",
        "classification_report (from sklearn.metrics) calculates metrics like precision, recall, F1-score, and support for each class.\n",
        "The target_names argument maps class indices to their labels (or names). Here, it uses string representations of class indices.\n",
        "\n",
        "Precision: Fraction of true positive predictions out of all positive predictions for each class.\n",
        "\n",
        "Recall: Fraction of true positive predictions out of all actual positives for each class.\n",
        "\n",
        "F1-score: Harmonic mean of precision and recall.\n",
        "\n",
        "Support: Number of samples for each class in the test dataset.\n"
      ]
    }
  ],
  "metadata": {
    "colab": {
      "provenance": [],
      "gpuType": "T4",
      "include_colab_link": true
    },
    "kernelspec": {
      "display_name": "medmnist",
      "language": "python",
      "name": "medmnist"
    },
    "language_info": {
      "codemirror_mode": {
        "name": "ipython",
        "version": 3
      },
      "file_extension": ".py",
      "mimetype": "text/x-python",
      "name": "python",
      "nbconvert_exporter": "python",
      "pygments_lexer": "ipython3",
      "version": "3.10.12"
    },
    "accelerator": "GPU"
  },
  "nbformat": 4,
  "nbformat_minor": 5
}